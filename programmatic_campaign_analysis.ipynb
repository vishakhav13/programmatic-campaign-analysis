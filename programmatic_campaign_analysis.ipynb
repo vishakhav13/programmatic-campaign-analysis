{
  "nbformat": 4,
  "nbformat_minor": 0,
  "metadata": {
    "colab": {
      "provenance": []
    },
    "kernelspec": {
      "name": "python3",
      "display_name": "Python 3"
    },
    "language_info": {
      "name": "python"
    }
  },
  "cells": [
    {
      "cell_type": "code",
      "source": [
        "import pandas as pd\n",
        "import numpy as np\n",
        "\n",
        "# Set seed for reproducibility\n",
        "np.random.seed(42)\n",
        "\n",
        "# Create sample data\n",
        "n = 200\n",
        "\n",
        "data = {\n",
        "    'campaign_id': np.random.choice(['CMP001', 'CMP002', 'CMP003', 'CMP004'], size=n),\n",
        "    'channel': np.random.choice(['Display', 'Video', 'Native', 'CTV'], size=n),\n",
        "    'region': np.random.choice(['Toronto', 'Vancouver', 'Calgary', 'Montreal'], size=n),\n",
        "    'impressions': np.random.randint(1000, 50000, size=n),\n",
        "    'clicks': np.random.randint(50, 2000, size=n),\n",
        "    'conversions': np.random.randint(5, 200, size=n),\n",
        "    'cost': np.random.uniform(100, 5000, size=n).round(2),\n",
        "    'date': pd.date_range(start='2023-01-01', periods=n, freq='D')\n",
        "}\n",
        "\n",
        "df = pd.DataFrame(data)\n",
        "\n",
        "# Show preview\n",
        "df.head()\n"
      ],
      "metadata": {
        "id": "Nz7dsgFUrhS3"
      },
      "execution_count": null,
      "outputs": []
    },
    {
      "cell_type": "code",
      "source": [
        "# KPI calculations\n",
        "df['CTR'] = (df['clicks'] / df['impressions']).round(4)\n",
        "df['CVR'] = (df['conversions'] / df['clicks']).round(4)\n",
        "df['CPA'] = (df['cost'] / df['conversions']).round(2)\n",
        "\n",
        "# View updated dataframe\n",
        "df[['campaign_id', 'channel', 'CTR', 'CVR', 'CPA']].head()\n"
      ],
      "metadata": {
        "id": "xOmJU1TPsNJ_"
      },
      "execution_count": null,
      "outputs": []
    },
    {
      "cell_type": "code",
      "source": [
        "import seaborn as sns\n",
        "import matplotlib.pyplot as plt\n",
        "\n",
        "# CTR by Channel\n",
        "plt.figure(figsize=(8,5))\n",
        "sns.barplot(x='channel', y='CTR', data=df)\n",
        "plt.title('Click-Through Rate by Channel')\n",
        "plt.ylabel('CTR')\n",
        "plt.xlabel('Channel')\n",
        "plt.show()\n"
      ],
      "metadata": {
        "id": "4nbiFOJwsX8r"
      },
      "execution_count": null,
      "outputs": []
    },
    {
      "cell_type": "code",
      "source": [
        "# Average CPA by Region\n",
        "region_cpa = df.groupby('region')['CPA'].mean().round(2)\n",
        "print(region_cpa)\n"
      ],
      "metadata": {
        "id": "LaDFE2SBscFD"
      },
      "execution_count": null,
      "outputs": []
    },
    {
      "cell_type": "code",
      "source": [
        "plt.figure(figsize=(8,5))\n",
        "sns.barplot(x='region', y='CPA', data=df)\n",
        "plt.title('Cost Per Acquisition by Region')\n",
        "plt.ylabel('CPA')\n",
        "plt.xlabel('Region')\n",
        "plt.tight_layout()\n",
        "plt.show()\n"
      ],
      "metadata": {
        "id": "cO_C1_P6sm3q"
      },
      "execution_count": null,
      "outputs": []
    },
    {
      "cell_type": "code",
      "source": [
        "# Average CVR by Campaign\n",
        "campaign_cvr = df.groupby('campaign_id')['CVR'].mean().round(4)\n",
        "print(campaign_cvr)\n"
      ],
      "metadata": {
        "id": "vqN2_QVzspro"
      },
      "execution_count": null,
      "outputs": []
    },
    {
      "cell_type": "code",
      "source": [
        "plt.figure(figsize=(8,5))\n",
        "sns.barplot(x='campaign_id', y='CVR', data=df)\n",
        "plt.title('Conversion Rate by Campaign')\n",
        "plt.ylabel('CVR')\n",
        "plt.xlabel('Campaign ID')\n",
        "plt.tight_layout()\n",
        "plt.show()\n"
      ],
      "metadata": {
        "id": "-DFnzFMsssoc"
      },
      "execution_count": null,
      "outputs": []
    }
  ]
}